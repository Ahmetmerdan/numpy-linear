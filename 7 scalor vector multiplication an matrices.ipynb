{
 "cells": [
  {
   "cell_type": "markdown",
   "id": "99ecdeeb",
   "metadata": {},
   "source": [
    "Matrix multiplication "
   ]
  },
  {
   "cell_type": "code",
   "execution_count": 1,
   "id": "dbdfee70",
   "metadata": {},
   "outputs": [],
   "source": [
    "#AB one result while BA another so they are not similar "
   ]
  },
  {
   "cell_type": "markdown",
   "id": "4b4722a8",
   "metadata": {},
   "source": [
    "MxN  NxK    if their inner dimention match or number of coulms from M1 matches with number of rows M2 then we can multiply them result MxK(coressponses to outer dimentions"
   ]
  },
  {
   "cell_type": "code",
   "execution_count": 2,
   "id": "5a41432a",
   "metadata": {},
   "outputs": [],
   "source": [
    "import numpy as np "
   ]
  },
  {
   "cell_type": "code",
   "execution_count": 3,
   "id": "9601cb80",
   "metadata": {},
   "outputs": [
    {
     "ename": "ValueError",
     "evalue": "matmul: Input operand 1 has a mismatch in its core dimension 0, with gufunc signature (n?,k),(k,m?)->(n?,m?) (size 4 is different from 5)",
     "output_type": "error",
     "traceback": [
      "\u001b[1;31m---------------------------------------------------------------------------\u001b[0m",
      "\u001b[1;31mValueError\u001b[0m                                Traceback (most recent call last)",
      "\u001b[1;32m<ipython-input-3-aeaa223cae8c>\u001b[0m in \u001b[0;36m<module>\u001b[1;34m\u001b[0m\n\u001b[0;32m      2\u001b[0m \u001b[0mM2\u001b[0m\u001b[1;33m=\u001b[0m\u001b[0mnp\u001b[0m\u001b[1;33m.\u001b[0m\u001b[0mrandom\u001b[0m\u001b[1;33m.\u001b[0m\u001b[0mrandn\u001b[0m\u001b[1;33m(\u001b[0m\u001b[1;36m4\u001b[0m\u001b[1;33m,\u001b[0m\u001b[1;36m5\u001b[0m\u001b[1;33m)\u001b[0m\u001b[1;33m\u001b[0m\u001b[1;33m\u001b[0m\u001b[0m\n\u001b[0;32m      3\u001b[0m \u001b[1;33m\u001b[0m\u001b[0m\n\u001b[1;32m----> 4\u001b[1;33m \u001b[0mprint\u001b[0m\u001b[1;33m(\u001b[0m\u001b[0mnp\u001b[0m\u001b[1;33m.\u001b[0m\u001b[0mmatmul\u001b[0m\u001b[1;33m(\u001b[0m\u001b[0mM1\u001b[0m\u001b[1;33m,\u001b[0m\u001b[0mM2\u001b[0m\u001b[1;33m)\u001b[0m\u001b[1;33m)\u001b[0m\u001b[1;33m\u001b[0m\u001b[1;33m\u001b[0m\u001b[0m\n\u001b[0m",
      "\u001b[1;31mValueError\u001b[0m: matmul: Input operand 1 has a mismatch in its core dimension 0, with gufunc signature (n?,k),(k,m?)->(n?,m?) (size 4 is different from 5)"
     ]
    }
   ],
   "source": [
    "M1=np.random.randn(4,5)\n",
    "M2=np.random.randn(4,5)\n",
    "\n",
    "print(np.matmul(M1,M2))"
   ]
  },
  {
   "cell_type": "code",
   "execution_count": 5,
   "id": "69e6f2b3",
   "metadata": {},
   "outputs": [
    {
     "name": "stdout",
     "output_type": "stream",
     "text": [
      "[[-1.97426321  0.2546246  -1.29985564  2.00772265]\n",
      " [ 2.34928908  0.87811196 -0.1780943  -1.79485849]\n",
      " [-2.21344713  2.31061817 -1.98668852  2.61388927]\n",
      " [-0.22199219 -1.86863447 -0.2919146  -0.05895025]]\n",
      " \n",
      "[[-1.97426321  0.2546246  -1.29985564  2.00772265]\n",
      " [ 2.34928908  0.87811196 -0.1780943  -1.79485849]\n",
      " [-2.21344713  2.31061817 -1.98668852  2.61388927]\n",
      " [-0.22199219 -1.86863447 -0.2919146  -0.05895025]]\n",
      " \n",
      "[[0. 0. 0. 0.]\n",
      " [0. 0. 0. 0.]\n",
      " [0. 0. 0. 0.]\n",
      " [0. 0. 0. 0.]]\n"
     ]
    }
   ],
   "source": [
    "# it works transpose one of them according to rule \n",
    "print(np.matmul(M1,M2.T))\n",
    "print(' ')\n",
    "print(M1@M2.T)\n",
    "# lest check their result\n",
    "print(' ')\n",
    "print(np.matmul(M1,M2.T)-M1@M2.T)"
   ]
  }
 ],
 "metadata": {
  "kernelspec": {
   "display_name": "Python 3",
   "language": "python",
   "name": "python3"
  },
  "language_info": {
   "codemirror_mode": {
    "name": "ipython",
    "version": 3
   },
   "file_extension": ".py",
   "mimetype": "text/x-python",
   "name": "python",
   "nbconvert_exporter": "python",
   "pygments_lexer": "ipython3",
   "version": "3.8.8"
  }
 },
 "nbformat": 4,
 "nbformat_minor": 5
}
