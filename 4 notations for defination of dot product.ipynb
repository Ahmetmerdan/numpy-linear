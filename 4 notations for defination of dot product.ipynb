{
 "cells": [
  {
   "cell_type": "markdown",
   "id": "380fb915",
   "metadata": {},
   "source": [
    "The dot product of a with unit vector u, denoted a⋅u, is defined to be the projection of a in the direction of u, or the amount that a is pointing in the same direction as unit vector u."
   ]
  },
  {
   "cell_type": "code",
   "execution_count": 1,
   "id": "6043563c",
   "metadata": {},
   "outputs": [],
   "source": [
    "import numpy as np \n",
    "import matplotlib.pyplot as plt"
   ]
  },
  {
   "cell_type": "code",
   "execution_count": 2,
   "id": "c949c9ca",
   "metadata": {},
   "outputs": [
    {
     "data": {
      "text/plain": [
       "42"
      ]
     },
     "execution_count": 2,
     "metadata": {},
     "output_type": "execute_result"
    }
   ],
   "source": [
    "# dot products a1*b1+a1*b2...\n",
    "v1=np.array([4,5,6])\n",
    "v2=np.array([3,0,5])\n",
    "#np.dot makes our life easier \n",
    "np.dot(v1,v2)"
   ]
  },
  {
   "cell_type": "code",
   "execution_count": 6,
   "id": "65113dc4",
   "metadata": {},
   "outputs": [
    {
     "data": {
      "text/plain": [
       "-7"
      ]
     },
     "execution_count": 6,
     "metadata": {},
     "output_type": "execute_result"
    }
   ],
   "source": [
    "v3=np.array([-4,3,1])\n",
    "np.dot(v2,v3)"
   ]
  },
  {
   "cell_type": "code",
   "execution_count": 7,
   "id": "79bacf86",
   "metadata": {},
   "outputs": [
    {
     "data": {
      "text/plain": [
       "0"
      ]
     },
     "execution_count": 7,
     "metadata": {},
     "output_type": "execute_result"
    }
   ],
   "source": [
    "v4=np.array([0,0,0])\n",
    "np.dot(v3,v4)"
   ]
  },
  {
   "cell_type": "code",
   "execution_count": 8,
   "id": "bbac5532",
   "metadata": {},
   "outputs": [
    {
     "data": {
      "text/plain": [
       "0"
      ]
     },
     "execution_count": 8,
     "metadata": {},
     "output_type": "execute_result"
    }
   ],
   "source": [
    "#v3=np.array([-4,3,1])\n",
    "v5=np.array([2,3,-1])\n",
    "np.dot(v3,v5)\n",
    "\n",
    "#vector v3 is orthogonal to v5 "
   ]
  },
  {
   "cell_type": "code",
   "execution_count": null,
   "id": "1e283224",
   "metadata": {},
   "outputs": [],
   "source": []
  }
 ],
 "metadata": {
  "kernelspec": {
   "display_name": "Python 3",
   "language": "python",
   "name": "python3"
  },
  "language_info": {
   "codemirror_mode": {
    "name": "ipython",
    "version": 3
   },
   "file_extension": ".py",
   "mimetype": "text/x-python",
   "name": "python",
   "nbconvert_exporter": "python",
   "pygments_lexer": "ipython3",
   "version": "3.8.8"
  }
 },
 "nbformat": 4,
 "nbformat_minor": 5
}
