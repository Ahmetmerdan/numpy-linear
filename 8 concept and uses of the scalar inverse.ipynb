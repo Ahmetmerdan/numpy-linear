{
 "cells": [
  {
   "cell_type": "markdown",
   "id": "00a67b87",
   "metadata": {},
   "source": [
    "We cannot divide Matrices \n",
    "The inverse of Matrix is the matrix that on multiplying with the original matrix results in an identity matrix. For any matrix A, its inverse is denoted as A-1"
   ]
  },
  {
   "cell_type": "code",
   "execution_count": 1,
   "id": "713025e7",
   "metadata": {},
   "outputs": [],
   "source": [
    "import numpy as np \n",
    "import matplotlib.pyplot as plt "
   ]
  },
  {
   "cell_type": "code",
   "execution_count": 2,
   "id": "6dc50641",
   "metadata": {},
   "outputs": [
    {
     "name": "stdout",
     "output_type": "stream",
     "text": [
      "[[-0.41407775 -1.01630815 -1.23938181  0.80316377]\n",
      " [-1.92342444  0.08165886 -1.33090299 -1.94818126]\n",
      " [-0.32380885  1.56062334  0.76238745 -0.38116482]\n",
      " [ 0.51571327 -1.02270653  0.12573579 -1.2876535 ]]\n",
      " \n",
      "[[ 29.87043378  -7.16833815  32.78441994  19.77224813]\n",
      " [ 19.9750269   -4.61304541  22.30247099  12.8367989 ]\n",
      " [-31.70075426   7.14356316 -34.38764352 -20.40183403]\n",
      " [ -6.99717021   1.49045229  -7.94101813  -5.04538528]]\n",
      " \n",
      "[[ 1.00000000e+00  1.11022302e-15 -5.32907052e-15  1.77635684e-15]\n",
      " [ 3.55271368e-15  1.00000000e+00  0.00000000e+00  3.55271368e-15]\n",
      " [ 4.44089210e-16  9.99200722e-16  1.00000000e+00 -3.33066907e-15]\n",
      " [ 0.00000000e+00  1.11022302e-15  3.55271368e-15  1.00000000e+00]]\n"
     ]
    }
   ],
   "source": [
    "A=np.random.randn(4,4)\n",
    "\n",
    "Ainv=np.linalg.inv(A)\n",
    "\n",
    "AinvA=A@Ainv\n",
    "\n",
    "print(A)\n",
    "print(' ')\n",
    "print(Ainv)\n",
    "print(' ')\n",
    "print(AinvA)\n"
   ]
  },
  {
   "cell_type": "code",
   "execution_count": 8,
   "id": "a64cbb10",
   "metadata": {},
   "outputs": [],
   "source": []
  },
  {
   "cell_type": "code",
   "execution_count": 5,
   "id": "575a9f5f",
   "metadata": {},
   "outputs": [
    {
     "data": {
      "image/png": "[encoded data removed]",
      "text/plain": [
       "<Figure size 432x360 with 3 Axes>"
      ]
     },
     "metadata": {
      "needs_background": "light"
     },
     "output_type": "display_data"
    }
   ],
   "source": [
    "fig,ax=plt.subplots(1,3,figsize=(6,5))\n",
    "                    \n",
    "ax[0].imshow(A)\n",
    "ax[0].set_title('A')\n",
    "                    \n",
    "ax[1].imshow(Ainv)  \n",
    "ax[1].set_title('A$^{-1}$')   #dollar sign is latex coding used when we need show special signs                 \n",
    "ax[2].imshow(AinvA) \n",
    "ax[2].set_title('A$^{-1}$A')                    \n",
    "plt.show()                    "
   ]
  },
  {
   "cell_type": "code",
   "execution_count": null,
   "id": "c23c7b54",
   "metadata": {},
   "outputs": [],
   "source": []
  },
  {
   "cell_type": "code",
   "execution_count": null,
   "id": "4d2a3257",
   "metadata": {},
   "outputs": [],
   "source": []
  },
  {
   "cell_type": "code",
   "execution_count": null,
   "id": "81540719",
   "metadata": {},
   "outputs": [],
   "source": []
  }
 ],
 "metadata": {
  "kernelspec": {
   "display_name": "Python 3",
   "language": "python",
   "name": "python3"
  },
  "language_info": {
   "codemirror_mode": {
    "name": "ipython",
    "version": 3
   },
   "file_extension": ".py",
   "mimetype": "text/x-python",
   "name": "python",
   "nbconvert_exporter": "python",
   "pygments_lexer": "ipython3",
   "version": "3.8.8"
  }
 },
 "nbformat": 4,
 "nbformat_minor": 5
}
