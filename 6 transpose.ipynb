{
 "cells": [
  {
   "cell_type": "markdown",
   "id": "37e59fd0",
   "metadata": {},
   "source": [
    "Symmetric matrices mirrors across th diogonal /a square matrix that remains unaltered when its transpose is calculated. \n",
    "\n",
    "A = AT"
   ]
  },
  {
   "cell_type": "code",
   "execution_count": null,
   "id": "5c8eebfa",
   "metadata": {},
   "outputs": [],
   "source": []
  },
  {
   "cell_type": "code",
   "execution_count": 1,
   "id": "0dc39c08",
   "metadata": {},
   "outputs": [],
   "source": [
    "import numpy as np "
   ]
  },
  {
   "cell_type": "code",
   "execution_count": 4,
   "id": "d158989e",
   "metadata": {},
   "outputs": [
    {
     "name": "stdout",
     "output_type": "stream",
     "text": [
      "[[ 2  3 -1]]\n",
      " \n",
      "[[ 2]\n",
      " [ 3]\n",
      " [-1]]\n"
     ]
    }
   ],
   "source": [
    "v1=np.array([2,3,-1],ndmin=2)\n",
    "print(v1)\n",
    "print(\" \")\n",
    "# in order to get its  transpose v1.T\n",
    "print(v1.T)"
   ]
  },
  {
   "cell_type": "markdown",
   "id": "f4985aa3",
   "metadata": {},
   "source": [
    "Transpose of matrix "
   ]
  },
  {
   "cell_type": "code",
   "execution_count": null,
   "id": "12173cc2",
   "metadata": {},
   "outputs": [],
   "source": [
    "M=np.random.randn(3,3)\n",
    "print(M)"
   ]
  },
  {
   "cell_type": "code",
   "execution_count": 9,
   "id": "390226e1",
   "metadata": {},
   "outputs": [
    {
     "name": "stdout",
     "output_type": "stream",
     "text": [
      "[[-1.  1. -0.]\n",
      " [-0.  2.  1.]\n",
      " [ 0. -1.  0.]]\n",
      " \n",
      "[[-1. -0.  0.]\n",
      " [ 1.  2. -1.]\n",
      " [-0.  1.  0.]]\n"
     ]
    }
   ],
   "source": [
    "M=np.round(np.random.randn(3,3))\n",
    "print(M)\n",
    "print(\" \")\n",
    "print(M.T)"
   ]
  },
  {
   "cell_type": "code",
   "execution_count": null,
   "id": "9dce8ef2",
   "metadata": {},
   "outputs": [],
   "source": [
    "#assigment \n",
    "#what happens if you transpose matrix twice ?\n",
    "#confirm that the  tranpose works in none square matrices \n",
    "\n"
   ]
  },
  {
   "cell_type": "code",
   "execution_count": 10,
   "id": "d4234d66",
   "metadata": {},
   "outputs": [
    {
     "data": {
      "text/plain": [
       "(3, 2)"
      ]
     },
     "execution_count": 10,
     "metadata": {},
     "output_type": "execute_result"
    }
   ],
   "source": [
    "A=np.matrix([[2,4],[5,4],[6,7]])\n",
    "A.shape"
   ]
  },
  {
   "cell_type": "code",
   "execution_count": 11,
   "id": "41dbf9fe",
   "metadata": {},
   "outputs": [
    {
     "name": "stdout",
     "output_type": "stream",
     "text": [
      "[[2 4]\n",
      " [5 4]\n",
      " [6 7]]\n",
      " \n",
      "[[2 5 6]\n",
      " [4 4 7]]\n"
     ]
    }
   ],
   "source": [
    "print(A)\n",
    "print(' ')\n",
    "print(A.T)"
   ]
  },
  {
   "cell_type": "code",
   "execution_count": 13,
   "id": "c836914e",
   "metadata": {},
   "outputs": [
    {
     "name": "stdout",
     "output_type": "stream",
     "text": [
      "[[2 5 6]\n",
      " [4 4 7]]\n",
      " \n",
      "[[2 4]\n",
      " [5 4]\n",
      " [6 7]]\n"
     ]
    }
   ],
   "source": [
    "#it is rotating around itx axis \n",
    "A2=A.T\n",
    "\n",
    "print(A2)\n",
    "print(' ')\n",
    "print(A2.T)"
   ]
  },
  {
   "cell_type": "code",
   "execution_count": 14,
   "id": "3f0072c3",
   "metadata": {},
   "outputs": [
    {
     "data": {
      "text/plain": [
       "(2, 5)"
      ]
     },
     "execution_count": 14,
     "metadata": {},
     "output_type": "execute_result"
    }
   ],
   "source": [
    "C=np.matrix([[2,4,1,5,6],[5,4,5,6,7]])\n",
    "C.shape"
   ]
  },
  {
   "cell_type": "code",
   "execution_count": 15,
   "id": "aa5b3d98",
   "metadata": {},
   "outputs": [
    {
     "name": "stdout",
     "output_type": "stream",
     "text": [
      "[[2 4 1 5 6]\n",
      " [5 4 5 6 7]]\n",
      " \n",
      "[[2 5]\n",
      " [4 4]\n",
      " [1 5]\n",
      " [5 6]\n",
      " [6 7]]\n"
     ]
    }
   ],
   "source": [
    "print(C)\n",
    "print(' ')\n",
    "print(C.T)"
   ]
  },
  {
   "cell_type": "code",
   "execution_count": null,
   "id": "fbfdc3b1",
   "metadata": {},
   "outputs": [],
   "source": []
  }
 ],
 "metadata": {
  "kernelspec": {
   "display_name": "Python 3",
   "language": "python",
   "name": "python3"
  },
  "language_info": {
   "codemirror_mode": {
    "name": "ipython",
    "version": 3
   },
   "file_extension": ".py",
   "mimetype": "text/x-python",
   "name": "python",
   "nbconvert_exporter": "python",
   "pygments_lexer": "ipython3",
   "version": "3.8.8"
  }
 },
 "nbformat": 4,
 "nbformat_minor": 5
}
