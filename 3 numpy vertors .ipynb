{
 "cells": [
  {
   "cell_type": "markdown",
   "id": "7a870a5c",
   "metadata": {},
   "source": [
    "Vectors are ordered list of numbers\n",
    "Dimensionalty :the number of numbers(elements)"
   ]
  },
  {
   "cell_type": "code",
   "execution_count": 4,
   "id": "76b93fb1",
   "metadata": {},
   "outputs": [],
   "source": [
    "import numpy as np"
   ]
  },
  {
   "cell_type": "code",
   "execution_count": 5,
   "id": "d7e5527f",
   "metadata": {},
   "outputs": [
    {
     "data": {
      "text/plain": [
       "matrix([[1, 4, 5, 6]])"
      ]
     },
     "execution_count": 5,
     "metadata": {},
     "output_type": "execute_result"
    }
   ],
   "source": [
    "# let create row vector /kese\n",
    "\n",
    "C=np.matrix([1,4,5,6])\n",
    "C"
   ]
  },
  {
   "cell_type": "code",
   "execution_count": 6,
   "id": "878ba518",
   "metadata": {},
   "outputs": [
    {
     "data": {
      "text/plain": [
       "matrix([[ 1],\n",
       "        [ 8],\n",
       "        [ 6],\n",
       "        [-4]])"
      ]
     },
     "execution_count": 6,
     "metadata": {},
     "output_type": "execute_result"
    }
   ],
   "source": [
    "# column vector /dik\n",
    "\n",
    "D=np.matrix([[1],[8],[6],[-4]])\n",
    "\n",
    "D"
   ]
  },
  {
   "cell_type": "markdown",
   "id": "48e22773",
   "metadata": {},
   "source": [
    "Vector-scalor multiplication:algebra  /multiply our scalar by both the coordinates of our vector. The word scalar comes from “scale.” Multiplying by a scalar just makes the vectors longer or shorter, but doesn't change their direction."
   ]
  },
  {
   "cell_type": "code",
   "execution_count": 7,
   "id": "d6b20356",
   "metadata": {},
   "outputs": [],
   "source": [
    "import numpy as np \n",
    "import matplotlib.pyplot as plt"
   ]
  },
  {
   "cell_type": "code",
   "execution_count": 10,
   "id": "830a918e",
   "metadata": {},
   "outputs": [
    {
     "data": {
      "text/plain": [
       "array([ 9, 12, 15,  6])"
      ]
     },
     "execution_count": 10,
     "metadata": {},
     "output_type": "execute_result"
    }
   ],
   "source": [
    "# vector\n",
    "#vec=[3,4,5,2]\n",
    "vec=np.array([3,4,5,2])\n",
    "#scalor λ  lamnda \n",
    "#s=2\n",
    "s=3\n",
    "#two times multiplication but repeated it twice \n",
    "vec*s"
   ]
  },
  {
   "cell_type": "code",
   "execution_count": 12,
   "id": "5a688b18",
   "metadata": {},
   "outputs": [],
   "source": [
    "vec2d=np.array([1,2])\n",
    "\n",
    "s1=2\n",
    "\n",
    "s2=.5\n",
    "\n",
    "s3=-1"
   ]
  },
  {
   "cell_type": "code",
   "execution_count": 16,
   "id": "730b9d5d",
   "metadata": {},
   "outputs": [
    {
     "data": {
      "text/plain": [
       "[<matplotlib.lines.Line2D at 0x9b8bb08>]"
      ]
     },
     "execution_count": 16,
     "metadata": {},
     "output_type": "execute_result"
    },
    {
     "data": {
      "image/png": "[encoded data removed]",
      "text/plain": [
       "<Figure size 432x288 with 1 Axes>"
      ]
     },
     "metadata": {
      "needs_background": "light"
     },
     "output_type": "display_data"
    }
   ],
   "source": [
    "# zero for 0 and x=0 ,vec2d[0] for first element and y= [0,vec2d[1]]\n",
    "plt.plot([0,vec2d[0]],[0,vec2d[1]],'bs-')"
   ]
  },
  {
   "cell_type": "code",
   "execution_count": 19,
   "id": "11dbad71",
   "metadata": {},
   "outputs": [
    {
     "data": {
      "image/png": "[encoded data removed]",
      "text/plain": [
       "<Figure size 432x288 with 1 Axes>"
      ]
     },
     "metadata": {
      "needs_background": "light"
     },
     "output_type": "display_data"
    }
   ],
   "source": [
    "plt.plot([0,vec2d[0]],[0,vec2d[1]],'bs-',label='v')\n",
    "plt.plot([0,s1*vec2d[0]],[0,s1*vec2d[1]],'ro-',label='S1')\n",
    "plt.plot([0,s2*vec2d[0]],[0,s2*vec2d[1]],'kp-',label='S2')\n",
    "\n",
    "plt.plot([0,s3*vec2d[0]],[0,s3*vec2d[1]],'g*-',label='S3')\n",
    "\n",
    "\n",
    "plt.axis('square')\n",
    "plt.xlim([-4,4])\n",
    "plt.ylim([-4,4])\n",
    "plt.grid()\n",
    "plt.legend()\n",
    "plt.show()"
   ]
  },
  {
   "cell_type": "code",
   "execution_count": 21,
   "id": "2df2d879",
   "metadata": {},
   "outputs": [],
   "source": [
    "#homework create two 2d vectors \n",
    "v1=np.array([3,4])\n",
    "\n",
    "v2=np.array([1,2])"
   ]
  },
  {
   "cell_type": "code",
   "execution_count": 24,
   "id": "4d5eb30e",
   "metadata": {},
   "outputs": [
    {
     "data": {
      "text/plain": [
       "<matplotlib.legend.Legend at 0xad885b0>"
      ]
     },
     "execution_count": 24,
     "metadata": {},
     "output_type": "execute_result"
    },
    {
     "data": {
      "image/png": "[encoded data removed]",
      "text/plain": [
       "<Figure size 432x288 with 1 Axes>"
      ]
     },
     "metadata": {
      "needs_background": "light"
     },
     "output_type": "display_data"
    }
   ],
   "source": [
    "#plot each vector \n",
    "plt.plot([0,v1[0]],[0,v1[1]],'bs-',label='V1')\n",
    "\n",
    "plt.plot([0,v2[0]],[0,v2[1]],'bs-',label='V2')\n",
    "plt.legend()"
   ]
  },
  {
   "cell_type": "code",
   "execution_count": 26,
   "id": "156c4029",
   "metadata": {},
   "outputs": [],
   "source": [
    "#plot each vector v1+v2 ,v1-v2 ,v1*4+v2/2\n",
    "v3=v1+v2\n",
    "v4=v1-v2\n",
    "v5=v1*4+v2/2"
   ]
  },
  {
   "cell_type": "code",
   "execution_count": 31,
   "id": "330e3d30",
   "metadata": {},
   "outputs": [
    {
     "data": {
      "image/png": "[encoded data removed]",
      "text/plain": [
       "<Figure size 432x288 with 1 Axes>"
      ]
     },
     "metadata": {
      "needs_background": "light"
     },
     "output_type": "display_data"
    }
   ],
   "source": [
    "plt.plot([0,v3[0]],[0,v3[1]],'bs-',label='v3')\n",
    "plt.plot([0,v4[0]],[0,s1*v4[1]],'ro-',label='v4')\n",
    "plt.plot([0,v5[0]],[0,v5[1]],'kp-',label='v5')\n",
    "\n",
    "\n",
    "plt.axis('square')\n",
    "plt.xlim([-20,20])\n",
    "plt.ylim([-20,20])\n",
    "plt.grid()\n",
    "plt.legend()\n",
    "plt.show()"
   ]
  },
  {
   "cell_type": "code",
   "execution_count": null,
   "id": "b19a7146",
   "metadata": {},
   "outputs": [],
   "source": []
  }
 ],
 "metadata": {
  "kernelspec": {
   "display_name": "Python 3",
   "language": "python",
   "name": "python3"
  },
  "language_info": {
   "codemirror_mode": {
    "name": "ipython",
    "version": 3
   },
   "file_extension": ".py",
   "mimetype": "text/x-python",
   "name": "python",
   "nbconvert_exporter": "python",
   "pygments_lexer": "ipython3",
   "version": "3.8.8"
  }
 },
 "nbformat": 4,
 "nbformat_minor": 5
}
