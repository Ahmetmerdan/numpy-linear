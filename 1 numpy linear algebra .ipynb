{
 "cells": [
  {
   "cell_type": "code",
   "execution_count": 3,
   "id": "17797600",
   "metadata": {},
   "outputs": [
    {
     "data": {
      "text/plain": [
       "27.1"
      ]
     },
     "execution_count": 3,
     "metadata": {},
     "output_type": "execute_result"
    }
   ],
   "source": [
    "a=7.1\n",
    "b=10\n",
    "a+b*2"
   ]
  },
  {
   "cell_type": "code",
   "execution_count": 4,
   "id": "29086ab1",
   "metadata": {},
   "outputs": [],
   "source": [
    "mike=17"
   ]
  },
  {
   "cell_type": "code",
   "execution_count": 6,
   "id": "fcb5c8d6",
   "metadata": {},
   "outputs": [],
   "source": [
    "numlist=[1,2,3,4,5]"
   ]
  },
  {
   "cell_type": "code",
   "execution_count": 9,
   "id": "907f1948",
   "metadata": {},
   "outputs": [
    {
     "data": {
      "text/plain": [
       "3.0"
      ]
     },
     "execution_count": 9,
     "metadata": {},
     "output_type": "execute_result"
    }
   ],
   "source": [
    "import numpy as np\n",
    "np.mean(numlist)\n",
    "np.sqrt(9)"
   ]
  },
  {
   "cell_type": "code",
   "execution_count": 11,
   "id": "06f0ef0c",
   "metadata": {},
   "outputs": [],
   "source": [
    "funout=np.linspace(1,10,7)"
   ]
  },
  {
   "cell_type": "code",
   "execution_count": 13,
   "id": "13ff61ec",
   "metadata": {},
   "outputs": [
    {
     "data": {
      "text/plain": [
       "array([ 3. ,  4.5,  6. ,  7.5,  9. , 10.5, 12. ])"
      ]
     },
     "execution_count": 13,
     "metadata": {},
     "output_type": "execute_result"
    }
   ],
   "source": [
    "funout+2"
   ]
  },
  {
   "cell_type": "code",
   "execution_count": 15,
   "id": "cf3cef1f",
   "metadata": {},
   "outputs": [],
   "source": [
    "#assignment\n",
    "spisok=list(range(0,101))"
   ]
  },
  {
   "cell_type": "code",
   "execution_count": null,
   "id": "5546dfa3",
   "metadata": {},
   "outputs": [],
   "source": []
  }
 ],
 "metadata": {
  "kernelspec": {
   "display_name": "Python 3",
   "language": "python",
   "name": "python3"
  },
  "language_info": {
   "codemirror_mode": {
    "name": "ipython",
    "version": 3
   },
   "file_extension": ".py",
   "mimetype": "text/x-python",
   "name": "python",
   "nbconvert_exporter": "python",
   "pygments_lexer": "ipython3",
   "version": "3.8.8"
  }
 },
 "nbformat": 4,
 "nbformat_minor": 5
}
